{
 "cells": [
  {
   "cell_type": "markdown",
   "metadata": {},
   "source": [
    "# Create crossval tables\n",
    "\n",
    "This notebook is dedicated to create the cv table to all tunings produced during 2020 for tracking purpose.\n"
   ]
  },
  {
   "cell_type": "code",
   "execution_count": 1,
   "metadata": {},
   "outputs": [
    {
     "name": "stdout",
     "output_type": "stream",
     "text": [
      "Welcome to JupyROOT 6.23/01\n",
      "Using all sub packages with ROOT dependence\n"
     ]
    }
   ],
   "source": [
    "from kolmov import crossval_table, get_color_fader\n",
    "import numpy as np\n",
    "import pandas as pd\n",
    "import collections\n",
    "import os\n",
    "import matplotlib\n",
    "import matplotlib.pyplot as plt\n",
    "%config InlineBackend.figure_format = 'retina'"
   ]
  },
  {
   "cell_type": "code",
   "execution_count": 2,
   "metadata": {},
   "outputs": [],
   "source": [
    "def create_op_dict(op):\n",
    "    d = {\n",
    "              op+'_pd_ref'    : \"reference/\"+op+\"_cutbased/pd_ref#0\",\n",
    "              op+'_fa_ref'    : \"reference/\"+op+\"_cutbased/fa_ref#0\",\n",
    "              op+'_sp_ref'    : \"reference/\"+op+\"_cutbased/sp_ref\",\n",
    "              op+'_pd_val'    : \"reference/\"+op+\"_cutbased/pd_val#0\",\n",
    "              op+'_fa_val'    : \"reference/\"+op+\"_cutbased/fa_val#0\",\n",
    "              op+'_sp_val'    : \"reference/\"+op+\"_cutbased/sp_val\",\n",
    "              op+'_pd_op'     : \"reference/\"+op+\"_cutbased/pd_op#0\",\n",
    "              op+'_fa_op'     : \"reference/\"+op+\"_cutbased/fa_op#0\",\n",
    "              op+'_sp_op'     : \"reference/\"+op+\"_cutbased/sp_op\",\n",
    "\n",
    "              # Counts\n",
    "              op+'_pd_ref_passed'    : \"reference/\"+op+\"_cutbased/pd_ref#1\",\n",
    "              op+'_fa_ref_passed'    : \"reference/\"+op+\"_cutbased/fa_ref#1\",\n",
    "              op+'_pd_ref_total'     : \"reference/\"+op+\"_cutbased/pd_ref#2\",\n",
    "              op+'_fa_ref_total'     : \"reference/\"+op+\"_cutbased/fa_ref#2\",\n",
    "              op+'_pd_val_passed'    : \"reference/\"+op+\"_cutbased/pd_val#1\",\n",
    "              op+'_fa_val_passed'    : \"reference/\"+op+\"_cutbased/fa_val#1\",\n",
    "              op+'_pd_val_total'     : \"reference/\"+op+\"_cutbased/pd_val#2\",\n",
    "              op+'_fa_val_total'     : \"reference/\"+op+\"_cutbased/fa_val#2\",\n",
    "              op+'_pd_op_passed'     : \"reference/\"+op+\"_cutbased/pd_op#1\",\n",
    "              op+'_fa_op_passed'     : \"reference/\"+op+\"_cutbased/fa_op#1\",\n",
    "              op+'_pd_op_total'      : \"reference/\"+op+\"_cutbased/pd_op#2\",\n",
    "              op+'_fa_op_total'      : \"reference/\"+op+\"_cutbased/fa_op#2\",\n",
    "    }\n",
    "    return d\n",
    "\n",
    "tuned_info = collections.OrderedDict( {\n",
    "              # validation\n",
    "              \"max_sp_val\"      : 'summary/max_sp_val',\n",
    "              \"max_sp_pd_val\"   : 'summary/max_sp_pd_val#0',\n",
    "              \"max_sp_fa_val\"   : 'summary/max_sp_fa_val#0',\n",
    "              # Operation\n",
    "              \"max_sp_op\"       : 'summary/max_sp_op',\n",
    "              \"max_sp_pd_op\"    : 'summary/max_sp_pd_op#0',\n",
    "              \"max_sp_fa_op\"    : 'summary/max_sp_fa_op#0',\n",
    "              } )\n",
    "\n",
    "tuned_info.update(create_op_dict('tight'))\n",
    "tuned_info.update(create_op_dict('medium'))\n",
    "tuned_info.update(create_op_dict('loose'))\n",
    "tuned_info.update(create_op_dict('vloose'))"
   ]
  },
  {
   "cell_type": "code",
   "execution_count": 3,
   "metadata": {},
   "outputs": [],
   "source": [
    "etbins = [15, 20, 30, 40, 50, 1000000]\n",
    "etabins = [0.0, 0.8, 1.37, 1.54, 2.37, 2.50]"
   ]
  },
  {
   "cell_type": "markdown",
   "metadata": {},
   "source": [
    "## 1) Reading all tunings:\n"
   ]
  },
  {
   "cell_type": "code",
   "execution_count": 4,
   "metadata": {},
   "outputs": [],
   "source": [
    "cv_v7  = crossval_table( tuned_info, etbins = etbins , etabins = etabins )\n",
    "cv_v8  = crossval_table( tuned_info, etbins = etbins , etabins = etabins )\n",
    "cv_v9  = crossval_table( tuned_info, etbins = etbins , etabins = etabins )\n",
    "cv_v10 = crossval_table( tuned_info, etbins = etbins , etabins = etabins )\n",
    "cv_v11 = crossval_table( tuned_info, etbins = etbins , etabins = etabins )\n",
    "cv_v1_el = crossval_table( tuned_info, etbins = etbins , etabins = etabins )\n",
    "cv_v2_el = crossval_table( tuned_info, etbins = etbins , etabins = etabins )"
   ]
  },
  {
   "cell_type": "code",
   "execution_count": 5,
   "metadata": {},
   "outputs": [
    {
     "name": "stdout",
     "output_type": "stream",
     "text": [
      "2020-12-27 15:18:05,273 | Py.crossval_table                       INFO Reading file for v7 tag from /Volumes/castor/tuning_data/Zee/v7/*.r0/*/*.gz\n",
      "2020-12-27 15:18:05,273 | Py.crossval_table                       INFO There are 2500 files for this task...\n",
      "2020-12-27 15:18:05,273 | Py.crossval_table                       INFO Filling the table... \n",
      "2020-12-27 15:19:09,897 | Py.crossval_table                       INFO End of fill step, a pandas DataFrame was created...\n",
      "2020-12-27 15:19:10,806 | Py.crossval_table                       INFO Reading file for v8 tag from /Volumes/castor/tuning_data/Zee/v8/*.r0/*/*.gz\n",
      "2020-12-27 15:19:10,807 | Py.crossval_table                       INFO There are 2500 files for this task...\n",
      "2020-12-27 15:19:10,807 | Py.crossval_table                       INFO Filling the table... \n",
      "2020-12-27 15:22:46,824 | Py.crossval_table                       INFO End of fill step, a pandas DataFrame was created...\n",
      "2020-12-27 15:22:47,473 | Py.crossval_table                       INFO Reading file for v9 tag from /Volumes/castor/tuning_data/Zee/v9/*.v9_et*.r0/*/*.gz\n",
      "2020-12-27 15:22:47,473 | Py.crossval_table                       INFO There are 1250 files for this task...\n",
      "2020-12-27 15:22:47,473 | Py.crossval_table                       INFO Filling the table... \n",
      "2020-12-27 15:23:21,471 | Py.crossval_table                       INFO End of fill step, a pandas DataFrame was created...\n",
      "2020-12-27 15:23:21,792 | Py.crossval_table                       INFO Reading file for v10 tag from /Volumes/castor/tuning_data/Zee/v10/*.r2/*/*.gz\n",
      "2020-12-27 15:23:21,792 | Py.crossval_table                       INFO There are 1250 files for this task...\n",
      "2020-12-27 15:23:21,792 | Py.crossval_table                       INFO Filling the table... \n",
      "2020-12-27 15:23:58,653 | Py.crossval_table                       INFO End of fill step, a pandas DataFrame was created...\n",
      "2020-12-27 15:23:59,109 | Py.crossval_table                       INFO Reading file for v11 tag from /Volumes/castor/tuning_data/Zee/v11/*.r3/*/*.gz\n",
      "2020-12-27 15:23:59,110 | Py.crossval_table                       INFO There are 1250 files for this task...\n",
      "2020-12-27 15:23:59,110 | Py.crossval_table                       INFO Filling the table... \n",
      "2020-12-27 15:24:35,344 | Py.crossval_table                       INFO End of fill step, a pandas DataFrame was created...\n",
      "2020-12-27 15:24:35,626 | Py.crossval_table                       INFO Reading file for v2-el tag from /Volumes/castor/tuning_data/Zee/v2_el/*.r0/*/*.gz\n",
      "2020-12-27 15:24:35,626 | Py.crossval_table                       INFO There are 500 files for this task...\n",
      "2020-12-27 15:24:35,626 | Py.crossval_table                       INFO Filling the table... \n",
      "2020-12-27 15:24:47,409 | Py.crossval_table                       INFO End of fill step, a pandas DataFrame was created...\n"
     ]
    }
   ],
   "source": [
    "# just for comparison\n",
    "cv_v7.fill(  '/Volumes/castor/tuning_data/Zee/v7/*.r0/*/*.gz', 'v7')\n",
    "cv_v8.fill(  '/Volumes/castor/tuning_data/Zee/v8/*.r0/*/*.gz', 'v8')\n",
    "# new tuning\n",
    "cv_v9.fill(  '/Volumes/castor/tuning_data/Zee/v9/*.v9_et*.r0/*/*.gz', 'v9')\n",
    "cv_v10.fill( '/Volumes/castor/tuning_data/Zee/v10/*.r2/*/*.gz', 'v10') # select r2 reco version\n",
    "cv_v11.fill( '/Volumes/castor/tuning_data/Zee/v11/*.r3/*/*.gz', 'v11') \n",
    "#cv_v1_el.fill( '/Volumes/castor/tuning_data/Zee/v1_el/*.r0/*/*.gz', 'v1-el')\n",
    "cv_v2_el.fill( '/Volumes/castor/tuning_data/Zee/v2_el/*.r0/*/*.gz', 'v2-el') "
   ]
  },
  {
   "cell_type": "code",
   "execution_count": 6,
   "metadata": {},
   "outputs": [],
   "source": [
    "cv_v7.to_csv('table_v7.csv')\n",
    "cv_v8.to_csv('table_v8.csv')\n",
    "cv_v9.to_csv('table_v9.csv')\n",
    "cv_v10.to_csv('table_v10.csv')\n",
    "cv_v11.to_csv('table_v11.csv')\n",
    "#cv_v1_el.to_csv('table_v1_el.csv')\n",
    "cv_v2_el.to_csv('table_v2_el.csv')"
   ]
  },
  {
   "cell_type": "markdown",
   "metadata": {},
   "source": [
    "**NOTE** Use the cell below to rerun all tables from the csv file."
   ]
  },
  {
   "cell_type": "code",
   "execution_count": 7,
   "metadata": {},
   "outputs": [],
   "source": [
    "cv_v7.from_csv('table_v7.csv')\n",
    "cv_v8.from_csv('table_v8.csv')\n",
    "cv_v9.from_csv('table_v9.csv')\n",
    "cv_v10.from_csv('table_v10.csv')\n",
    "cv_v11.from_csv('table_v11.csv')\n",
    "#cv_v1_el.from_csv('table_v1_el.csv')\n",
    "cv_v2_el.from_csv('table_v2_el.csv')"
   ]
  },
  {
   "cell_type": "markdown",
   "metadata": {},
   "source": [
    "**WARNING**: The next cell will fix all counts from v7 tuning since these files used monte carlo samples and the other tunings used data samples. Since I would like to compare v7 (mc) with others (data), it is mandatory to fix the internal counts to make a fair comparison."
   ]
  },
  {
   "cell_type": "code",
   "execution_count": 8,
   "metadata": {},
   "outputs": [],
   "source": [
    "def fix_counts( table_orig, table_as_ref):\n",
    "    dataframe = collections.OrderedDict({})\n",
    "    for key in table_orig.columns:\n",
    "        dataframe[key] = []\n",
    "        \n",
    "    for idx, row in table_orig.iterrows():\n",
    "        current_table = table_as_ref.loc[(table_as_ref.et_bin==row['et_bin'])&(table_as_ref.eta_bin==row['eta_bin'])]\n",
    "        for key in table_orig.columns:\n",
    "            if 'total' in key:\n",
    "                dataframe[key].append(current_table[key].values[0])\n",
    "            elif 'passed' in key:\n",
    "                total=current_table[key.replace('passed','total')].values[0]\n",
    "                passed=total*row[key.replace('_passed','')]\n",
    "                dataframe[key].append(passed)\n",
    "            else:\n",
    "                dataframe[key].append(row[key])\n",
    "    return pd.DataFrame(dataframe)\n",
    "\n",
    "cv_v7.set_table( fix_counts(cv_v7.table(), cv_v8.table() ) )"
   ]
  },
  {
   "cell_type": "markdown",
   "metadata": {},
   "source": [
    "### 1.1) Get best inits and sorts:"
   ]
  },
  {
   "cell_type": "code",
   "execution_count": 9,
   "metadata": {},
   "outputs": [],
   "source": [
    "best_inits_v7 = cv_v7.filter_inits(\"max_sp_val\")\n",
    "best_inits_v7 = best_inits_v7.loc[best_inits_v7.model_idx==3]\n",
    "best_sorts_v7 = cv_v7.filter_sorts( best_inits_v7 , 'max_sp_op')"
   ]
  },
  {
   "cell_type": "code",
   "execution_count": 10,
   "metadata": {},
   "outputs": [],
   "source": [
    "best_inits_v8 = cv_v8.filter_inits(\"max_sp_val\")\n",
    "best_sorts_v8 = cv_v8.filter_sorts( best_inits_v8 , 'max_sp_op')\n",
    "best_inits_v8 = best_inits_v8.loc[best_inits_v8.model_idx==3]"
   ]
  },
  {
   "cell_type": "code",
   "execution_count": 11,
   "metadata": {},
   "outputs": [],
   "source": [
    "best_inits_v9 = cv_v9.filter_inits(\"max_sp_val\")\n",
    "best_sorts_v9 = cv_v9.filter_sorts( best_inits_v9 , 'max_sp_op')"
   ]
  },
  {
   "cell_type": "code",
   "execution_count": 12,
   "metadata": {},
   "outputs": [],
   "source": [
    "best_inits_v10 = cv_v10.filter_inits(\"max_sp_val\")\n",
    "best_sorts_v10 = cv_v10.filter_sorts( best_inits_v10 , 'max_sp_op')"
   ]
  },
  {
   "cell_type": "code",
   "execution_count": 13,
   "metadata": {},
   "outputs": [],
   "source": [
    "best_inits_v11 = cv_v11.filter_inits(\"max_sp_val\")\n",
    "best_sorts_v11 = cv_v11.filter_sorts( best_inits_v11 , 'max_sp_op')"
   ]
  },
  {
   "cell_type": "code",
   "execution_count": 14,
   "metadata": {},
   "outputs": [],
   "source": [
    "best_inits_v2_el = cv_v2_el.filter_inits(\"max_sp_val\")\n",
    "best_sorts_v2_el = cv_v2_el.filter_sorts( best_inits_v2_el , 'max_sp_op')"
   ]
  },
  {
   "cell_type": "code",
   "execution_count": 15,
   "metadata": {},
   "outputs": [],
   "source": [
    "best_inits = pd.concat([\n",
    "                        best_inits_v7,\n",
    "                        best_inits_v8,\n",
    "                        best_inits_v9,\n",
    "                        best_inits_v10,\n",
    "                        best_inits_v11,\n",
    "                        #best_inits_v1_el,\n",
    "                        best_inits_v2_el,\n",
    "                       ])\n",
    "best_sorts = pd.concat([\n",
    "                        best_sorts_v7,\n",
    "                        best_sorts_v8,\n",
    "                        best_sorts_v9,\n",
    "                        best_sorts_v10,\n",
    "                        best_sorts_v11,\n",
    "                        #best_sorts_v1_el,\n",
    "                        best_sorts_v2_el,\n",
    "                       ])"
   ]
  },
  {
   "cell_type": "markdown",
   "metadata": {},
   "source": [
    "### 1.2) Make the table:"
   ]
  },
  {
   "cell_type": "code",
   "execution_count": 16,
   "metadata": {},
   "outputs": [
    {
     "name": "stdout",
     "output_type": "stream",
     "text": [
      "2020-12-27 15:25:25,407 | Py.BeamerTexReportTemplate1             INFO Started creating beamer file tuning_v7_to_v2_el_tight.pdf latex code...\n",
      "2020-12-27 15:25:32,588 | Py.BeamerTexReportTemplate1             INFO Started creating beamer file tuning_v7_to_v2_el_medium.pdf latex code...\n",
      "2020-12-27 15:25:39,419 | Py.BeamerTexReportTemplate1             INFO Started creating beamer file tuning_v7_to_v2_el_loose.pdf latex code...\n",
      "2020-12-27 15:25:46,264 | Py.BeamerTexReportTemplate1             INFO Started creating beamer file tuning_v7_to_v2_el_vloose.pdf latex code...\n"
     ]
    }
   ],
   "source": [
    "for op in ['tight','medium','loose','vloose']:\n",
    "    cv_v7.dump_beamer_table( best_inits ,  [op], 'tuning_v7_to_v2_el_'+op, \n",
    "                             title = op+' Tunings (v7 to v2-el)', \n",
    "                             tags = ['v7','v8','v9','v10','v11','v2-el']\n",
    "                             #tags = ['v10']\n",
    "                           )"
   ]
  },
  {
   "cell_type": "markdown",
   "metadata": {},
   "source": [
    "### 1.3) Plot training curves:"
   ]
  },
  {
   "cell_type": "code",
   "execution_count": 17,
   "metadata": {},
   "outputs": [],
   "source": [
    "cv_v7.plot_training_curves( best_inits_v7, best_sorts_v7 , 'v7' )"
   ]
  },
  {
   "cell_type": "code",
   "execution_count": 18,
   "metadata": {},
   "outputs": [],
   "source": [
    "cv_v8.plot_training_curves( best_inits_v8, best_sorts_v8 , 'v8' )"
   ]
  },
  {
   "cell_type": "code",
   "execution_count": 19,
   "metadata": {},
   "outputs": [],
   "source": [
    "cv_v9.plot_training_curves( best_inits_v9, best_sorts_v9 , 'v9' )"
   ]
  },
  {
   "cell_type": "code",
   "execution_count": 20,
   "metadata": {},
   "outputs": [],
   "source": [
    "cv_v10.plot_training_curves( best_inits_v10, best_sorts_v10 , 'v10' )"
   ]
  },
  {
   "cell_type": "code",
   "execution_count": 21,
   "metadata": {},
   "outputs": [],
   "source": [
    "cv_v11.plot_training_curves( best_inits_v11, best_sorts_v11 , 'v11' )"
   ]
  },
  {
   "cell_type": "code",
   "execution_count": 22,
   "metadata": {},
   "outputs": [],
   "source": [
    "#cv_v1_el.plot_training_curves( best_inits_v1_el, best_sorts_v1_el , 'v1-el' )"
   ]
  },
  {
   "cell_type": "code",
   "execution_count": 23,
   "metadata": {},
   "outputs": [],
   "source": [
    "cv_v2_el.plot_training_curves( best_inits_v2_el, best_sorts_v2_el , 'v2-el' )"
   ]
  },
  {
   "cell_type": "markdown",
   "metadata": {},
   "source": [
    "### 1.4) Plot RoC curves:"
   ]
  },
  {
   "cell_type": "code",
   "execution_count": 24,
   "metadata": {},
   "outputs": [
    {
     "ename": "NameError",
     "evalue": "name 'mpl' is not defined",
     "output_type": "error",
     "traceback": [
      "\u001b[0;31m---------------------------------------------------------------------------\u001b[0m",
      "\u001b[0;31mNameError\u001b[0m                                 Traceback (most recent call last)",
      "\u001b[0;32m<ipython-input-24-4ac379642aa3>\u001b[0m in \u001b[0;36m<module>\u001b[0;34m\u001b[0m\n\u001b[1;32m      2\u001b[0m                         \u001b[0;34m[\u001b[0m\u001b[0;34m'v7'\u001b[0m\u001b[0;34m,\u001b[0m \u001b[0;34m'v8'\u001b[0m\u001b[0;34m,\u001b[0m \u001b[0;34m'v9'\u001b[0m\u001b[0;34m,\u001b[0m \u001b[0;34m'v10'\u001b[0m\u001b[0;34m,\u001b[0m\u001b[0;34m'v11'\u001b[0m\u001b[0;34m,\u001b[0m\u001b[0;34m'v2-el'\u001b[0m\u001b[0;34m]\u001b[0m\u001b[0;34m,\u001b[0m\u001b[0;34m\u001b[0m\u001b[0;34m\u001b[0m\u001b[0m\n\u001b[1;32m      3\u001b[0m                         \u001b[0;34m'roc_v7_to_v2_el_et2_eta0.pdf'\u001b[0m\u001b[0;34m,\u001b[0m \u001b[0mdisplay\u001b[0m\u001b[0;34m=\u001b[0m\u001b[0;32mTrue\u001b[0m\u001b[0;34m,\u001b[0m\u001b[0;34m\u001b[0m\u001b[0;34m\u001b[0m\u001b[0m\n\u001b[0;32m----> 4\u001b[0;31m                         \u001b[0mcolors\u001b[0m\u001b[0;34m=\u001b[0m\u001b[0mget_color_fader\u001b[0m\u001b[0;34m(\u001b[0m\u001b[0;34m'blue'\u001b[0m\u001b[0;34m,\u001b[0m\u001b[0;34m'red'\u001b[0m\u001b[0;34m,\u001b[0m\u001b[0;36m6\u001b[0m\u001b[0;34m)\u001b[0m \u001b[0;34m,\u001b[0m\u001b[0;34m\u001b[0m\u001b[0;34m\u001b[0m\u001b[0m\n\u001b[0m\u001b[1;32m      5\u001b[0m                         \u001b[0met_bin\u001b[0m\u001b[0;34m=\u001b[0m\u001b[0;36m2\u001b[0m\u001b[0;34m,\u001b[0m \u001b[0meta_bin\u001b[0m\u001b[0;34m=\u001b[0m\u001b[0;36m0\u001b[0m\u001b[0;34m,\u001b[0m \u001b[0mxmin\u001b[0m\u001b[0;34m=\u001b[0m\u001b[0;34m-\u001b[0m\u001b[0;36m0.005\u001b[0m\u001b[0;34m,\u001b[0m \u001b[0mxmax\u001b[0m\u001b[0;34m=\u001b[0m\u001b[0;36m0.02\u001b[0m\u001b[0;34m,\u001b[0m \u001b[0mymin\u001b[0m\u001b[0;34m=\u001b[0m\u001b[0;36m0.980\u001b[0m\u001b[0;34m,\u001b[0m \u001b[0mymax\u001b[0m\u001b[0;34m=\u001b[0m\u001b[0;36m1.005\u001b[0m\u001b[0;34m,\u001b[0m\u001b[0;34m\u001b[0m\u001b[0;34m\u001b[0m\u001b[0m\n\u001b[1;32m      6\u001b[0m                         \u001b[0mfontsize\u001b[0m\u001b[0;34m=\u001b[0m\u001b[0;36m20\u001b[0m\u001b[0;34m,\u001b[0m\u001b[0;34m\u001b[0m\u001b[0;34m\u001b[0m\u001b[0m\n",
      "\u001b[0;32m~/Desktop/codes/kolmov/kolmov/utils/plot_functions.py\u001b[0m in \u001b[0;36mget_color_fader\u001b[0;34m(c1, c2, n)\u001b[0m\n\u001b[1;32m     24\u001b[0m         \u001b[0mc2\u001b[0m\u001b[0;34m=\u001b[0m\u001b[0mnp\u001b[0m\u001b[0;34m.\u001b[0m\u001b[0marray\u001b[0m\u001b[0;34m(\u001b[0m\u001b[0mmpl\u001b[0m\u001b[0;34m.\u001b[0m\u001b[0mcolors\u001b[0m\u001b[0;34m.\u001b[0m\u001b[0mto_rgb\u001b[0m\u001b[0;34m(\u001b[0m\u001b[0mc2\u001b[0m\u001b[0;34m)\u001b[0m\u001b[0;34m)\u001b[0m\u001b[0;34m\u001b[0m\u001b[0;34m\u001b[0m\u001b[0m\n\u001b[1;32m     25\u001b[0m         \u001b[0;32mreturn\u001b[0m \u001b[0mmpl\u001b[0m\u001b[0;34m.\u001b[0m\u001b[0mcolors\u001b[0m\u001b[0;34m.\u001b[0m\u001b[0mto_hex\u001b[0m\u001b[0;34m(\u001b[0m\u001b[0;34m(\u001b[0m\u001b[0;36m1\u001b[0m\u001b[0;34m-\u001b[0m\u001b[0mmix\u001b[0m\u001b[0;34m)\u001b[0m\u001b[0;34m*\u001b[0m\u001b[0mc1\u001b[0m \u001b[0;34m+\u001b[0m \u001b[0mmix\u001b[0m\u001b[0;34m*\u001b[0m\u001b[0mc2\u001b[0m\u001b[0;34m)\u001b[0m\u001b[0;34m\u001b[0m\u001b[0;34m\u001b[0m\u001b[0m\n\u001b[0;32m---> 26\u001b[0;31m     \u001b[0;32mreturn\u001b[0m \u001b[0;34m[\u001b[0m \u001b[0mcolor_fader\u001b[0m\u001b[0;34m(\u001b[0m\u001b[0mc1\u001b[0m\u001b[0;34m,\u001b[0m\u001b[0mc2\u001b[0m\u001b[0;34m,\u001b[0m \u001b[0mfrac\u001b[0m\u001b[0;34m)\u001b[0m \u001b[0;32mfor\u001b[0m \u001b[0mfrac\u001b[0m \u001b[0;32min\u001b[0m \u001b[0mnp\u001b[0m\u001b[0;34m.\u001b[0m\u001b[0mlinspace\u001b[0m\u001b[0;34m(\u001b[0m\u001b[0;36m0\u001b[0m\u001b[0;34m,\u001b[0m\u001b[0;36m1\u001b[0m\u001b[0;34m,\u001b[0m\u001b[0mn\u001b[0m\u001b[0;34m)\u001b[0m \u001b[0;34m]\u001b[0m\u001b[0;34m\u001b[0m\u001b[0;34m\u001b[0m\u001b[0m\n\u001b[0m\u001b[1;32m     27\u001b[0m \u001b[0;34m\u001b[0m\u001b[0m\n\u001b[1;32m     28\u001b[0m \u001b[0;34m\u001b[0m\u001b[0m\n",
      "\u001b[0;32m~/Desktop/codes/kolmov/kolmov/utils/plot_functions.py\u001b[0m in \u001b[0;36m<listcomp>\u001b[0;34m(.0)\u001b[0m\n\u001b[1;32m     24\u001b[0m         \u001b[0mc2\u001b[0m\u001b[0;34m=\u001b[0m\u001b[0mnp\u001b[0m\u001b[0;34m.\u001b[0m\u001b[0marray\u001b[0m\u001b[0;34m(\u001b[0m\u001b[0mmpl\u001b[0m\u001b[0;34m.\u001b[0m\u001b[0mcolors\u001b[0m\u001b[0;34m.\u001b[0m\u001b[0mto_rgb\u001b[0m\u001b[0;34m(\u001b[0m\u001b[0mc2\u001b[0m\u001b[0;34m)\u001b[0m\u001b[0;34m)\u001b[0m\u001b[0;34m\u001b[0m\u001b[0;34m\u001b[0m\u001b[0m\n\u001b[1;32m     25\u001b[0m         \u001b[0;32mreturn\u001b[0m \u001b[0mmpl\u001b[0m\u001b[0;34m.\u001b[0m\u001b[0mcolors\u001b[0m\u001b[0;34m.\u001b[0m\u001b[0mto_hex\u001b[0m\u001b[0;34m(\u001b[0m\u001b[0;34m(\u001b[0m\u001b[0;36m1\u001b[0m\u001b[0;34m-\u001b[0m\u001b[0mmix\u001b[0m\u001b[0;34m)\u001b[0m\u001b[0;34m*\u001b[0m\u001b[0mc1\u001b[0m \u001b[0;34m+\u001b[0m \u001b[0mmix\u001b[0m\u001b[0;34m*\u001b[0m\u001b[0mc2\u001b[0m\u001b[0;34m)\u001b[0m\u001b[0;34m\u001b[0m\u001b[0;34m\u001b[0m\u001b[0m\n\u001b[0;32m---> 26\u001b[0;31m     \u001b[0;32mreturn\u001b[0m \u001b[0;34m[\u001b[0m \u001b[0mcolor_fader\u001b[0m\u001b[0;34m(\u001b[0m\u001b[0mc1\u001b[0m\u001b[0;34m,\u001b[0m\u001b[0mc2\u001b[0m\u001b[0;34m,\u001b[0m \u001b[0mfrac\u001b[0m\u001b[0;34m)\u001b[0m \u001b[0;32mfor\u001b[0m \u001b[0mfrac\u001b[0m \u001b[0;32min\u001b[0m \u001b[0mnp\u001b[0m\u001b[0;34m.\u001b[0m\u001b[0mlinspace\u001b[0m\u001b[0;34m(\u001b[0m\u001b[0;36m0\u001b[0m\u001b[0;34m,\u001b[0m\u001b[0;36m1\u001b[0m\u001b[0;34m,\u001b[0m\u001b[0mn\u001b[0m\u001b[0;34m)\u001b[0m \u001b[0;34m]\u001b[0m\u001b[0;34m\u001b[0m\u001b[0;34m\u001b[0m\u001b[0m\n\u001b[0m\u001b[1;32m     27\u001b[0m \u001b[0;34m\u001b[0m\u001b[0m\n\u001b[1;32m     28\u001b[0m \u001b[0;34m\u001b[0m\u001b[0m\n",
      "\u001b[0;32m~/Desktop/codes/kolmov/kolmov/utils/plot_functions.py\u001b[0m in \u001b[0;36mcolor_fader\u001b[0;34m(c1, c2, mix)\u001b[0m\n\u001b[1;32m     21\u001b[0m \u001b[0;32mdef\u001b[0m \u001b[0mget_color_fader\u001b[0m\u001b[0;34m(\u001b[0m \u001b[0mc1\u001b[0m\u001b[0;34m,\u001b[0m \u001b[0mc2\u001b[0m\u001b[0;34m,\u001b[0m \u001b[0mn\u001b[0m \u001b[0;34m)\u001b[0m\u001b[0;34m:\u001b[0m\u001b[0;34m\u001b[0m\u001b[0;34m\u001b[0m\u001b[0m\n\u001b[1;32m     22\u001b[0m     \u001b[0;32mdef\u001b[0m \u001b[0mcolor_fader\u001b[0m\u001b[0;34m(\u001b[0m\u001b[0mc1\u001b[0m\u001b[0;34m,\u001b[0m\u001b[0mc2\u001b[0m\u001b[0;34m,\u001b[0m\u001b[0mmix\u001b[0m\u001b[0;34m=\u001b[0m\u001b[0;36m0\u001b[0m\u001b[0;34m)\u001b[0m\u001b[0;34m:\u001b[0m \u001b[0;31m#fade (linear interpolate) from color c1 (at mix=0) to c2 (mix=1)\u001b[0m\u001b[0;34m\u001b[0m\u001b[0;34m\u001b[0m\u001b[0m\n\u001b[0;32m---> 23\u001b[0;31m         \u001b[0mc1\u001b[0m\u001b[0;34m=\u001b[0m\u001b[0mnp\u001b[0m\u001b[0;34m.\u001b[0m\u001b[0marray\u001b[0m\u001b[0;34m(\u001b[0m\u001b[0mmpl\u001b[0m\u001b[0;34m.\u001b[0m\u001b[0mcolors\u001b[0m\u001b[0;34m.\u001b[0m\u001b[0mto_rgb\u001b[0m\u001b[0;34m(\u001b[0m\u001b[0mc1\u001b[0m\u001b[0;34m)\u001b[0m\u001b[0;34m)\u001b[0m\u001b[0;34m\u001b[0m\u001b[0;34m\u001b[0m\u001b[0m\n\u001b[0m\u001b[1;32m     24\u001b[0m         \u001b[0mc2\u001b[0m\u001b[0;34m=\u001b[0m\u001b[0mnp\u001b[0m\u001b[0;34m.\u001b[0m\u001b[0marray\u001b[0m\u001b[0;34m(\u001b[0m\u001b[0mmpl\u001b[0m\u001b[0;34m.\u001b[0m\u001b[0mcolors\u001b[0m\u001b[0;34m.\u001b[0m\u001b[0mto_rgb\u001b[0m\u001b[0;34m(\u001b[0m\u001b[0mc2\u001b[0m\u001b[0;34m)\u001b[0m\u001b[0;34m)\u001b[0m\u001b[0;34m\u001b[0m\u001b[0;34m\u001b[0m\u001b[0m\n\u001b[1;32m     25\u001b[0m         \u001b[0;32mreturn\u001b[0m \u001b[0mmpl\u001b[0m\u001b[0;34m.\u001b[0m\u001b[0mcolors\u001b[0m\u001b[0;34m.\u001b[0m\u001b[0mto_hex\u001b[0m\u001b[0;34m(\u001b[0m\u001b[0;34m(\u001b[0m\u001b[0;36m1\u001b[0m\u001b[0;34m-\u001b[0m\u001b[0mmix\u001b[0m\u001b[0;34m)\u001b[0m\u001b[0;34m*\u001b[0m\u001b[0mc1\u001b[0m \u001b[0;34m+\u001b[0m \u001b[0mmix\u001b[0m\u001b[0;34m*\u001b[0m\u001b[0mc2\u001b[0m\u001b[0;34m)\u001b[0m\u001b[0;34m\u001b[0m\u001b[0;34m\u001b[0m\u001b[0m\n",
      "\u001b[0;31mNameError\u001b[0m: name 'mpl' is not defined"
     ]
    }
   ],
   "source": [
    "cv_v7.plot_roc_curves( best_sorts, ['v7', 'v8', 'v9', 'v10','v11','v2-el'], \n",
    "                        ['v7', 'v8', 'v9', 'v10','v11','v2-el'], \n",
    "                        'roc_v7_to_v2_el_et2_eta0.pdf', display=True, \n",
    "                        colors=get_color_fader('blue','red',6) ,\n",
    "                        et_bin=2, eta_bin=0, xmin=-0.005, xmax=0.02, ymin=0.980, ymax=1.005, \n",
    "                        fontsize=20,\n",
    "                        figsize=(7,7))"
   ]
  },
  {
   "cell_type": "code",
   "execution_count": null,
   "metadata": {},
   "outputs": [],
   "source": [
    "cv_v7.plot_roc_curves( best_sorts, ['v7', 'v8', 'v9','v10','v11','v2-el'], \n",
    "                        ['v7', 'v8', 'v9','v10','v11','v2-el'], \n",
    "                        'roc_v7_to_v2_el_et2_eta0.pdf', display=True, \n",
    "                        colors=get_color_fader('blue','red',6) ,\n",
    "                        et_bin=2, eta_bin=0, xmin=-0.005, xmax=0.02, ymin=0.980, ymax=1.005, \n",
    "                        fontsize=20,\n",
    "                        figsize=(7,7))"
   ]
  },
  {
   "cell_type": "code",
   "execution_count": null,
   "metadata": {},
   "outputs": [],
   "source": [
    "cv_v7.plot_roc_curves( best_sorts, ['v7', 'v8', 'v9','v10','v11','v2-el'], \n",
    "                       ['v7', 'v8', 'v9','v10','v11','v2-el'], \n",
    "                        'rocs_v7_to_v2_el.pdf',display=False, colors=get_color_fader('blue','red',6),\n",
    "                       figsize=(30,30))"
   ]
  },
  {
   "cell_type": "code",
   "execution_count": null,
   "metadata": {},
   "outputs": [],
   "source": []
  }
 ],
 "metadata": {
  "kernelspec": {
   "display_name": "Python 3",
   "language": "python",
   "name": "python3"
  },
  "language_info": {
   "codemirror_mode": {
    "name": "ipython",
    "version": 3
   },
   "file_extension": ".py",
   "mimetype": "text/x-python",
   "name": "python",
   "nbconvert_exporter": "python",
   "pygments_lexer": "ipython3",
   "version": "3.7.9"
  }
 },
 "nbformat": 4,
 "nbformat_minor": 4
}
