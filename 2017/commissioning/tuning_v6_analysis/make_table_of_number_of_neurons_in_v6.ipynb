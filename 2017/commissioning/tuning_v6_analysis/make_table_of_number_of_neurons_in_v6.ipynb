{
 "cells": [
  {
   "cell_type": "markdown",
   "metadata": {},
   "source": [
    "# Number of Hidden Neurons in 2017"
   ]
  },
  {
   "cell_type": "code",
   "execution_count": 28,
   "metadata": {},
   "outputs": [
    {
     "name": "stdout",
     "output_type": "stream",
     "text": [
      "The autoreload extension is already loaded. To reload it, use:\n",
      "  %reload_ext autoreload\n"
     ]
    }
   ],
   "source": [
    "from Gaugi.tex import *\n",
    "import numpy as np\n",
    "import array\n",
    "import os\n",
    "from functools import reduce\n",
    "from pprint import pprint\n",
    "%config InlineBackend.figure_format = 'retina'\n",
    "%load_ext autoreload\n",
    "%autoreload 2"
   ]
  },
  {
   "cell_type": "code",
   "execution_count": 35,
   "metadata": {},
   "outputs": [],
   "source": [
    "etbins = [15, 20, 30, 40, 50, 1000000]\n",
    "etabins = [0.0, 0.8, 1.37, 1.54, 2.50]\n",
    "#etabins = [0.0, 0.8, 1.37, 1.54, 2.37, 2.50]"
   ]
  },
  {
   "cell_type": "code",
   "execution_count": 36,
   "metadata": {},
   "outputs": [],
   "source": [
    "def get_models( location , etbins, etabins, remove_last=True):\n",
    "    from tensorflow.keras.models import Model, model_from_json\n",
    "    from tensorflow.keras.layers import Activation\n",
    "    import json\n",
    "    models = [[ None for _ in range(len(etabins)-1)] for __ in range(len(etbins)-1)]\n",
    "    for et_bin in range(len(etbins)-1):\n",
    "        for eta_bin in range(len(etabins)-1):\n",
    "            d_tuned = {}\n",
    "            path=location.format(ET=et_bin,ETA=3 if eta_bin==4 else eta_bin)\n",
    "            #print(path)\n",
    "            with open(path+'.json', 'r') as json_file:\n",
    "                model = model_from_json(json_file.read())\n",
    "                # load weights into new model\n",
    "                model.load_weights(path+\".h5\")\n",
    "                # since the production version has no tansig fucntion as default. Let's include it\n",
    "                # for study\n",
    "                model.add(Activation('tanh'))\n",
    "                new_model = Model(model.inputs, model.layers[-2].output) if remove_last else model\n",
    "                d_tuned['model']    = new_model\n",
    "                d_tuned['etBin']    = [etbins[et_bin], etbins[et_bin+1]]\n",
    "                d_tuned['etaBin']   = [etabins[eta_bin], etabins[eta_bin+1]]\n",
    "                d_tuned['etBinIdx'] = et_bin\n",
    "                d_tuned['etaBinIdx']= eta_bin\n",
    "                models[et_bin][eta_bin] = d_tuned\n",
    "                \n",
    "    # return the models's matrix          \n",
    "    return models\n",
    "\n",
    "model_path = '/Volumes/castor/tuning_data/Zee/production/TrigL2_20170505_v6/models'\n",
    "model_path+='/mc15_13TeV.423300.Zee_probes_lhmedium.423300.JF17_Truth.model_v6.electronTight.et{ET}_eta{ETA}'\n",
    "best_models = get_models(model_path, etbins, etabins,remove_last=True)"
   ]
  },
  {
   "cell_type": "code",
   "execution_count": 58,
   "metadata": {},
   "outputs": [
    {
     "name": "stdout",
     "output_type": "stream",
     "text": [
      "2021-01-15 14:17:49,444 | Py.BeamerTexReportTemplate1             INFO Started creating beamer file number_of_neurons_for_v6.pdf latex code...\n"
     ]
    }
   ],
   "source": [
    "def make_table(best_models, etbins, etabins, title, output):\n",
    "    \n",
    "    etbins_str = []; etabins_str = []\n",
    "    for etBinIdx in range(len(etbins)-1):\n",
    "        etbin = (etbins[etBinIdx], etbins[etBinIdx+1])\n",
    "        if etbin[1] > 100 :\n",
    "            etbins_str.append( r'$E_{T}\\text{[GeV]} > %d$' % etbin[0])\n",
    "        else:\n",
    "            etbins_str.append(  r'$%d < E_{T} \\text{[Gev]}<%d$'%etbin )\n",
    "\n",
    "    # Create Latex eta bins\n",
    "    for etaBinIdx in range( len(etabins)-1 ):\n",
    "        etabin = (etabins[etaBinIdx], etabins[etaBinIdx+1])\n",
    "        etabins_str.append( r'$%.2f<\\eta<%.2f$'%etabin )\n",
    "    \n",
    "    green = '\\cellcolor[HTML]{9AFF99}'\n",
    "\n",
    "    with BeamerTexReportTemplate1( theme = 'Berlin'\n",
    "                                 , _toPDF = True\n",
    "                                 , title = title\n",
    "                                 , outputFile = output\n",
    "                                 , font = 'structurebold' ):\n",
    "        \n",
    "        lines1 = []\n",
    "        lines1 += [ HLine(_contextManaged = False) ]\n",
    "        lines1 += [ HLine(_contextManaged = False) ]\n",
    "        lines1 += [ TableLine( columns = ['',''] + reduce(lambda x,y: x+y,[[s] for s in etbins_str]), _contextManaged = False ) ]\n",
    "        #lines1 += [ HLine(_contextManaged = False) ]\n",
    "        #lines1 += [ TableLine( columns = ['',''] + reduce(lambda x,y: x+y,[['Units'] for _ in etbins_str]), _contextManaged = False ) ]\n",
    "        lines1 += [ HLine(_contextManaged = False) ]\n",
    "        layers = ['Input','Hidden','Output']\n",
    "        for etaBinIdx in range(len(etabins)-1):\n",
    "            for idx, layer in enumerate( layers ):\n",
    "                values = []\n",
    "                for etBinIdx in range(len(etbins)-1):\n",
    "                    color = green if idx==1 else \"\"\n",
    "                    if idx==0:\n",
    "                        n=100\n",
    "                    elif idx==1:\n",
    "                        n = best_models[etBinIdx][etaBinIdx]['model'].layers[1].bias.shape[0]\n",
    "                    else:\n",
    "                        n = 1\n",
    "                    values.append( color+str(n) )   \n",
    "                    \n",
    "                \n",
    "                if idx > 0:\n",
    "                    lines1 += [ TableLine( columns = ['', layer] + values   , _contextManaged = False ) ]\n",
    "                else:\n",
    "                    lines1 += [ TableLine( columns = ['\\multirow{%d}{*}{'%(len(layers))+etabins_str[etaBinIdx]+'}', layer] + values   ,\n",
    "                                                _contextManaged = False ) ]\n",
    "                    #lines1 += [ TableLine( columns = ['', layer] + values   , _contextManaged = False ) ]\n",
    "            lines1 += [ HLine(_contextManaged = False) ]\n",
    "        lines1 += [ HLine(_contextManaged = False) ]\n",
    "        \n",
    "        # Create all tables into the PDF Latex\n",
    "        with BeamerSlide( title = \"Number of neuron in hidden layer for 2017 operation\"  ):\n",
    "            with Table( caption = \"Number of neuron in hidden layer for 2017 operation.\") as table:\n",
    "                with ResizeBox( size = 1. ) as rb:\n",
    "                    with Tabular( columns = 'lcc' + 'c' * len(etbins_str) ) as tabular:\n",
    "                        tabular = tabular\n",
    "                        for line in lines1:\n",
    "                            if isinstance(line, TableLine):\n",
    "                                tabular += line\n",
    "                            else:\n",
    "                                TableLine(line, rounding = None)\n",
    "        \n",
    "        \n",
    "make_table(best_models, etbins, etabins, 'Number of neurons (hidden layer) for 2017 (v6)', 'number_of_neurons_for_v6.pdf')"
   ]
  },
  {
   "cell_type": "code",
   "execution_count": null,
   "metadata": {},
   "outputs": [],
   "source": []
  }
 ],
 "metadata": {
  "kernelspec": {
   "display_name": "Python 3",
   "language": "python",
   "name": "python3"
  },
  "language_info": {
   "codemirror_mode": {
    "name": "ipython",
    "version": 3
   },
   "file_extension": ".py",
   "mimetype": "text/x-python",
   "name": "python",
   "nbconvert_exporter": "python",
   "pygments_lexer": "ipython3",
   "version": "3.7.9"
  }
 },
 "nbformat": 4,
 "nbformat_minor": 4
}
