{
 "cells": [
  {
   "cell_type": "markdown",
   "metadata": {},
   "source": [
    "# Plot Monte Carlo quantities\n",
    "\n",
    "Plot some distributions for mc15 data"
   ]
  },
  {
   "cell_type": "code",
   "execution_count": 1,
   "metadata": {},
   "outputs": [
    {
     "name": "stdout",
     "output_type": "stream",
     "text": [
      "Welcome to JupyROOT 6.23/01\n",
      "Using all sub packages with ROOT dependence\n"
     ]
    }
   ],
   "source": [
    "from ProfileTools import profiles\n",
    "from pprint import pprint\n",
    "%config InlineBackend.figure_format = 'retina'\n",
    "%load_ext autoreload\n",
    "%autoreload 2"
   ]
  },
  {
   "cell_type": "code",
   "execution_count": 2,
   "metadata": {},
   "outputs": [],
   "source": [
    "etbins = [15, 20, 30, 40, 50, 1000000]\n",
    "etabins = [0.0, 0.8, 1.37, 1.54, 2.37, 2.50]"
   ]
  },
  {
   "cell_type": "code",
   "execution_count": 3,
   "metadata": {},
   "outputs": [],
   "source": [
    "path = '/Volumes/castor/cern_data/files/Zee/mc15_13TeV.sgn.probes_lhmedium_Zee.bkg.Truth.JF17/'\n",
    "path+= 'mc15_13TeV.sgn.probes_lhmedium_Zee.bkg.Truth.JF17_et{ET}_eta{ETA}.npz'\n",
    "paths = [[ path.format(ET=et,ETA=eta) for eta in range(5)] for et in range(5)]  "
   ]
  },
  {
   "cell_type": "code",
   "execution_count": 4,
   "metadata": {},
   "outputs": [],
   "source": [
    "def generator_for_signal(path):\n",
    "    from Gaugi import load\n",
    "    raw = load(path)\n",
    "    features = raw['features'].tolist()\n",
    "    data = raw['data']\n",
    "    target =  raw['target']\n",
    "    return data[target==1,:], features"
   ]
  },
  {
   "cell_type": "code",
   "execution_count": 5,
   "metadata": {},
   "outputs": [],
   "source": [
    "from collections import OrderedDict\n",
    "layers = OrderedDict([ ('PS', 8),\n",
    "                       ('EM1', 64),\n",
    "                       ('EM2', 8),\n",
    "                       ('EM3', 8),\n",
    "                       ('HAD1', 4),\n",
    "                       ('HAD2', 4),\n",
    "                       ('HAD3', 4) ])\n",
    "\n",
    "def ringParser(idx):\n",
    "    cTotal = 0\n",
    "    for key, nRings in layers.items():\n",
    "        if idx < cTotal+nRings: break\n",
    "        cTotal += nRings\n",
    "    return 'Ring_{(%s,%d;%d)} [MeV]' % (key, idx-cTotal, idx)"
   ]
  },
  {
   "cell_type": "code",
   "execution_count": 6,
   "metadata": {},
   "outputs": [],
   "source": [
    "from ProfileTools import ringLowerEdges, ringHighEdges, ringNBins\n",
    "from ProfileTools import standardQuantitiesLowerEdges, standardQuantitiesHighEdges, standardQuantitiesNBins\n",
    "from ProfileTools import electronQuantities\n",
    "\n",
    "profile = profiles(etbins, etabins)\n",
    "\n",
    "for key in ['f1','f3','eratio','reta','weta2']:\n",
    "    profile.add_hist('L2Calo_'+key, standardQuantitiesNBins[key], \n",
    "                                     standardQuantitiesLowerEdges[key],\n",
    "                                     standardQuantitiesHighEdges[key], \n",
    "                                     electronQuantities[key]) \n",
    "for ring in range(100):\n",
    "    profile.add_hist('L2Calo_ring_%d'%ring, ringNBins[ring], ringLowerEdges[ring],\n",
    "                                             ringHighEdges[ring], ringParser(ring))"
   ]
  },
  {
   "cell_type": "code",
   "execution_count": 7,
   "metadata": {},
   "outputs": [
    {
     "name": "stdout",
     "output_type": "stream",
     "text": [
      "\n",
      "Applying ATLAS style settings...\n",
      "Reading... |############################################################| 25/25\n",
      "Reading... ... finished task in 35.553460s.\n",
      "Plotting... |############################################################| 105/105\n",
      "Plotting... ... finished task in 25.178738s.\n"
     ]
    }
   ],
   "source": [
    "hists = profile.fill( generator_for_signal, paths, 'quantities_mc15_Zee_probes_lhmedium' )"
   ]
  },
  {
   "cell_type": "code",
   "execution_count": 8,
   "metadata": {},
   "outputs": [],
   "source": [
    "def generator_for_background(path):\n",
    "    from Gaugi import load\n",
    "    raw = load(path)\n",
    "    features = raw['features'].tolist()\n",
    "    data = raw['data']\n",
    "    target =  raw['target']\n",
    "    return data[target!=1,:], features"
   ]
  },
  {
   "cell_type": "code",
   "execution_count": null,
   "metadata": {},
   "outputs": [
    {
     "name": "stdout",
     "output_type": "stream",
     "text": [
      "\n",
      "Applying ATLAS style settings...\n",
      "Reading... |############------------------------------------------------| 5/25\r"
     ]
    }
   ],
   "source": [
    "hists = profile.fill( generator_for_background, paths, 'quantities_mc15_JF17_Truth' )"
   ]
  },
  {
   "cell_type": "code",
   "execution_count": null,
   "metadata": {},
   "outputs": [],
   "source": []
  },
  {
   "cell_type": "code",
   "execution_count": null,
   "metadata": {},
   "outputs": [],
   "source": []
  },
  {
   "cell_type": "code",
   "execution_count": null,
   "metadata": {},
   "outputs": [],
   "source": []
  }
 ],
 "metadata": {
  "kernelspec": {
   "display_name": "Python 3",
   "language": "python",
   "name": "python3"
  },
  "language_info": {
   "codemirror_mode": {
    "name": "ipython",
    "version": 3
   },
   "file_extension": ".py",
   "mimetype": "text/x-python",
   "name": "python",
   "nbconvert_exporter": "python",
   "pygments_lexer": "ipython3",
   "version": "3.7.9"
  }
 },
 "nbformat": 4,
 "nbformat_minor": 4
}
